{
 "cells": [
  {
   "cell_type": "markdown",
   "id": "149499fa",
   "metadata": {},
   "source": [
    "# Imports"
   ]
  },
  {
   "cell_type": "code",
   "execution_count": 13,
   "id": "9ba8a1b5",
   "metadata": {},
   "outputs": [],
   "source": [
    "from datetime import datetime as dt\n",
    "from datetime import timedelta\n",
    "from datetime import date\n",
    "import calendar\n",
    "\n",
    "from bs4 import BeautifulSoup\n",
    "import pandas as pd\n",
    "\n",
    "import requests\n",
    "import random"
   ]
  },
  {
   "cell_type": "markdown",
   "id": "9c35ae02",
   "metadata": {},
   "source": [
    "# Loading dataframes"
   ]
  },
  {
   "cell_type": "markdown",
   "id": "adc37903",
   "metadata": {},
   "source": [
    "### Based on existing csv files"
   ]
  },
  {
   "cell_type": "code",
   "execution_count": 14,
   "id": "b60efcb9",
   "metadata": {},
   "outputs": [],
   "source": [
    "CAD_df = pd.read_csv(\"CAD.csv\",parse_dates=[\"Date\"])\n",
    "CHF_df = pd.read_csv(\"CHF.csv\",parse_dates=[\"Date\"])\n",
    "GBP_df = pd.read_csv(\"GBP.csv\",parse_dates=[\"Date\"])\n",
    "JPY_df = pd.read_csv(\"JPY.csv\",parse_dates=[\"Date\"])\n",
    "EUR_df = pd.read_csv(\"EUR.csv\",parse_dates=[\"Date\"])\n",
    "NZD_df = pd.read_csv(\"NZD.csv\",parse_dates=[\"Date\"])\n",
    "BUTTER = pd.read_csv(\"BUTTER.csv\",parse_dates=[\"Date\"])\n",
    "MILK = pd.read_csv(\"MILK.csv\",parse_dates=[\"Date\"])\n",
    "NON_FAT_DRY_MILK = pd.read_csv(\"NON_FAT_DRY_MILK.csv\",parse_dates=[\"Date\"])\n",
    "LEAN_HOGS = pd.read_csv(\"LEAN_HOGS.csv\",parse_dates=[\"Date\"])\n",
    "LIVE_CATTLE = pd.read_csv(\"LIVE_CATTLE.csv\",parse_dates=[\"Date\"])\n",
    "RANDOM_LENGTH_LUMBER = pd.read_csv(\"RANDOM_LENGTH_LUMBER.csv\",parse_dates=[\"Date\"])\n",
    "FEEDER_CATTLE = pd.read_csv(\"FEEDER_CATTLE.csv\",parse_dates=[\"Date\"])\n",
    "CHEESE = pd.read_csv(\"CHEESE.csv\",parse_dates=[\"Date\"])\n",
    "BITCOIN = pd.read_csv(\"BITCOIN.csv\",parse_dates=[\"Date\"])"
   ]
  },
  {
   "cell_type": "markdown",
   "id": "d40517c8",
   "metadata": {},
   "source": [
    "### Based on entirely new files"
   ]
  },
  {
   "cell_type": "code",
   "execution_count": 3,
   "id": "3308916c",
   "metadata": {},
   "outputs": [],
   "source": [
    "Currency_Columns = [\"Date\",\"Symbol\",\"Long\",\"Short\",\"Change Long\",\"Change Short\",\"Net positions\",\"Total positions\",\"Open interest\"]\n",
    "CAD_df = pd.DataFrame(columns=Currency_Columns)\n",
    "CHF_df = pd.DataFrame(columns=Currency_Columns)\n",
    "GBP_df = pd.DataFrame(columns=Currency_Columns)\n",
    "JPY_df = pd.DataFrame(columns=Currency_Columns)\n",
    "EUR_df = pd.DataFrame(columns=Currency_Columns)\n",
    "NZD_df = pd.DataFrame(columns=Currency_Columns)\n",
    "BUTTER = pd.DataFrame(columns=Currency_Columns)\n",
    "MILK = pd.DataFrame(columns=Currency_Columns)\n",
    "NON_FAT_DRY_MILK = pd.DataFrame(columns=Currency_Columns)\n",
    "LEAN_HOGS = pd.DataFrame(columns=Currency_Columns)\n",
    "LIVE_CATTLE = pd.DataFrame(columns=Currency_Columns)\n",
    "RANDOM_LENGTH_LUMBER = pd.DataFrame(columns=Currency_Columns) \n",
    "FEEDER_CATTLE = pd.DataFrame(columns=Currency_Columns)\n",
    "CHEESE = pd.DataFrame(columns=Currency_Columns) \n",
    "BITCOIN = pd.DataFrame(columns=Currency_Columns)"
   ]
  },
  {
   "cell_type": "markdown",
   "id": "69f0453e",
   "metadata": {},
   "source": [
    "### Array containing all dataframes"
   ]
  },
  {
   "cell_type": "code",
   "execution_count": 15,
   "id": "4c03d8a6",
   "metadata": {},
   "outputs": [],
   "source": [
    "DataFrames = [CAD_df,\n",
    "              CHF_df,\n",
    "              GBP_df,\n",
    "              JPY_df,\n",
    "              EUR_df,\n",
    "              NZD_df,\n",
    "              BUTTER,\n",
    "              MILK,\n",
    "              NON_FAT_DRY_MILK,\n",
    "              LEAN_HOGS,\n",
    "              LIVE_CATTLE,\n",
    "              RANDOM_LENGTH_LUMBER,\n",
    "              FEEDER_CATTLE,\n",
    "              CHEESE,\n",
    "              BITCOIN]"
   ]
  },
  {
   "cell_type": "markdown",
   "id": "ef46339c",
   "metadata": {},
   "source": [
    "# Defining variables"
   ]
  },
  {
   "cell_type": "code",
   "execution_count": 16,
   "id": "81ce99c6",
   "metadata": {},
   "outputs": [],
   "source": [
    "# Request headers\n",
    "headers = [{'User-agent': 'Mozilla/5.0 (X11; Ubuntu; Linux x86_64; rv:61.0) Gecko/20100101 Firefox/61.0'},\n",
    "           {'User-agent': 'Mozilla/5.0 (Macintosh; Intel Mac OS X 10_11_6) AppleWebKit/537.36 (KHTML, like Gecko) Chrome/53.0.2785.143 Safari/537.36'}]\n",
    "\n",
    "# Current report\n",
    "url_current_report = \"https://www.cftc.gov/dea/futures/deacmesf.htm\"\n",
    "\n",
    "# CFTC home\n",
    "url_current_home = \"https://www.cftc.gov/MarketReports/CommitmentsofTraders/index.htm\"\n",
    "\n",
    "# Page containing historical reports\n",
    "url_historical_home = \"https://www.cftc.gov/MarketReports/CommitmentsofTraders/HistoricalViewable/index.htm\"\n",
    "\n",
    "# Base structure for any chicago mercantile exchange short format futures only\n",
    "structure_chicago_mercantile_exchange_url = \"https://www.cftc.gov/sites/default/files/files/dea/cotarchives/{}/futures/deacmesf{}.htm\""
   ]
  },
  {
   "cell_type": "markdown",
   "id": "790674e3",
   "metadata": {},
   "source": [
    "# Defining the date of the last report"
   ]
  },
  {
   "cell_type": "code",
   "execution_count": 17,
   "id": "057eaa42",
   "metadata": {},
   "outputs": [],
   "source": [
    "# Get page elements\n",
    "dateInfo = BeautifulSoup(requests.get(url_current_home, headers=random.choice(headers)).content,\"html.parser\").find_all(\"strong\")\n",
    "\n",
    "# Filter page elements\n",
    "for element in dateInfo:\n",
    "    if element.text.split(\" \")[0] == \"Reports\" and element.text.split(\" \")[1] == \"Dated\":\n",
    "        dateInfo = element.text.replace(\",\",\"\").replace(\"\\xa0\",\" \").split(\" \")\n",
    "        break\n",
    "\n",
    "# Convert extracted raw data into a date object\n",
    "dateLast = date(int(dateInfo[4]),int(list(calendar.month_name).index(dateInfo[2])),int(dateInfo[3]))"
   ]
  },
  {
   "cell_type": "markdown",
   "id": "098dd68d",
   "metadata": {},
   "source": [
    "# Definining the dates for all historical reports"
   ]
  },
  {
   "cell_type": "code",
   "execution_count": 47,
   "id": "d36b160f",
   "metadata": {
    "scrolled": true
   },
   "outputs": [],
   "source": [
    "# Initialize empty array where urls and dates for historical reports will be stored\n",
    "historical_urls = []\n",
    "\n",
    "# Appending the url and date of the current report to the array\n",
    "historical_urls.append({\"date\":dateLast, \"url\": url_current_report})\n",
    "\n",
    "# Retrieving web object\n",
    "request_historical = requests.get(url_historical_home, headers=random.choice(headers))\n",
    "\n",
    "# HTML parsed element\n",
    "soup_historical = BeautifulSoup(request_historical.content,\"html.parser\")\n",
    "\n",
    "\n",
    "# Iterate every <table></table> element in the given page\n",
    "for table in soup_historical.find_all(\"table\"):\n",
    "    \n",
    "    # Iterate every <a></a> tag in the given page\n",
    "    for element in table.find_all(\"a\"):\n",
    "        \n",
    "        # Extract the href atribute for each <a></a> tag\n",
    "        href = element.get(\"href\")\n",
    "        \n",
    "        # Apply condition to check href attribute is valid\n",
    "        if href != None and href[-4:] != \".htm\":\n",
    "        \n",
    "            # Defining the addr variable depending on the current structure of the <a></a> tag href attribute\n",
    "            if element.get(\"href\")[-4:] == \"html\": addr = \"/MarketReports/CommitmentsofTraders/HistoricalViewable/\"+element.get(\"href\")[:-5]  \n",
    "            else: addr = element.get(\"href\")[-6:]\n",
    "            \n",
    "            # Replace text in addr which will retrieve the numbers that correspond to the date of the given report\n",
    "            addr = addr.replace(\"/MarketReports/CommitmentsofTraders/HistoricalViewable/cot\",\"\").replace(\"r\",\"\")\n",
    "            \n",
    "            # Slice string of numbers to extract year month and day\n",
    "            year = addr[-2:]\n",
    "            month = addr[0:2]\n",
    "            day = addr[2:4]\n",
    "            \n",
    "            # Convert raw extracted values into a date object\n",
    "            reportDate = date(int(\"20\"+year),int(month),int(day))\n",
    "            \n",
    "            # Only include reports after 1st jan 2005\n",
    "            if reportDate > date(2005,1,1):\n",
    "                \n",
    "                # Define the URL\n",
    "                url = structure_chicago_mercantile_exchange_url.format(\"20\" + year,month+day+year)\n",
    "                \n",
    "                # Condition for specific url that doesn't follow the pattern (CFTC's fuckup)\n",
    "                if url == 'https://www.cftc.gov/sites/default/files/files/dea/cotarchives/2019/futures/deacmesf122419.htm':\n",
    "                    url = 'https://www.cftc.gov/sites/default/files/files/dea/cotarchives/2019/futures/deacmesf123019.htm'\n",
    "       \n",
    "                # Appending dictionary with the date and url of the current report\n",
    "                historical_urls.append({\"date\": reportDate,\n",
    "                                        \"url\":url})\n"
   ]
  },
  {
   "cell_type": "markdown",
   "id": "d3fa1781",
   "metadata": {},
   "source": [
    "# Helper function"
   ]
  },
  {
   "cell_type": "code",
   "execution_count": 19,
   "id": "41320519",
   "metadata": {},
   "outputs": [],
   "source": [
    "def remove_blank(data):\n",
    "    final_data = []\n",
    "    for point in data:\n",
    "        if point != \"\":\n",
    "            final_data.append(point)\n",
    "    return final_data"
   ]
  },
  {
   "cell_type": "markdown",
   "id": "e8fb2500",
   "metadata": {},
   "source": [
    "# Check what reports are currently missing on each df"
   ]
  },
  {
   "cell_type": "code",
   "execution_count": 52,
   "id": "ea2c9792",
   "metadata": {
    "collapsed": true
   },
   "outputs": [
    {
     "ename": "KeyboardInterrupt",
     "evalue": "",
     "output_type": "error",
     "traceback": [
      "\u001b[1;31m---------------------------------------------------------------------------\u001b[0m",
      "\u001b[1;31mKeyboardInterrupt\u001b[0m                         Traceback (most recent call last)",
      "\u001b[1;32m<ipython-input-52-6625d95ec3d1>\u001b[0m in \u001b[0;36m<module>\u001b[1;34m\u001b[0m\n\u001b[0;32m      9\u001b[0m \u001b[1;33m\u001b[0m\u001b[0m\n\u001b[0;32m     10\u001b[0m             \u001b[1;31m# Retrieve the report\u001b[0m\u001b[1;33m\u001b[0m\u001b[1;33m\u001b[0m\u001b[1;33m\u001b[0m\u001b[0m\n\u001b[1;32m---> 11\u001b[1;33m             \u001b[0mrequest\u001b[0m \u001b[1;33m=\u001b[0m \u001b[0mrequests\u001b[0m\u001b[1;33m.\u001b[0m\u001b[0mget\u001b[0m\u001b[1;33m(\u001b[0m\u001b[0melement\u001b[0m\u001b[1;33m[\u001b[0m\u001b[1;34m\"url\"\u001b[0m\u001b[1;33m]\u001b[0m\u001b[1;33m,\u001b[0m \u001b[0mheaders\u001b[0m\u001b[1;33m=\u001b[0m\u001b[0mrandom\u001b[0m\u001b[1;33m.\u001b[0m\u001b[0mchoice\u001b[0m\u001b[1;33m(\u001b[0m\u001b[0mheaders\u001b[0m\u001b[1;33m)\u001b[0m\u001b[1;33m)\u001b[0m\u001b[1;33m\u001b[0m\u001b[1;33m\u001b[0m\u001b[0m\n\u001b[0m\u001b[0;32m     12\u001b[0m \u001b[1;33m\u001b[0m\u001b[0m\n\u001b[0;32m     13\u001b[0m             \u001b[1;31m# Html parse the report\u001b[0m\u001b[1;33m\u001b[0m\u001b[1;33m\u001b[0m\u001b[1;33m\u001b[0m\u001b[0m\n",
      "\u001b[1;32mD:\\ANACONDA\\envs\\tensor2\\lib\\site-packages\\requests\\api.py\u001b[0m in \u001b[0;36mget\u001b[1;34m(url, params, **kwargs)\u001b[0m\n\u001b[0;32m     74\u001b[0m \u001b[1;33m\u001b[0m\u001b[0m\n\u001b[0;32m     75\u001b[0m     \u001b[0mkwargs\u001b[0m\u001b[1;33m.\u001b[0m\u001b[0msetdefault\u001b[0m\u001b[1;33m(\u001b[0m\u001b[1;34m'allow_redirects'\u001b[0m\u001b[1;33m,\u001b[0m \u001b[1;32mTrue\u001b[0m\u001b[1;33m)\u001b[0m\u001b[1;33m\u001b[0m\u001b[1;33m\u001b[0m\u001b[0m\n\u001b[1;32m---> 76\u001b[1;33m     \u001b[1;32mreturn\u001b[0m \u001b[0mrequest\u001b[0m\u001b[1;33m(\u001b[0m\u001b[1;34m'get'\u001b[0m\u001b[1;33m,\u001b[0m \u001b[0murl\u001b[0m\u001b[1;33m,\u001b[0m \u001b[0mparams\u001b[0m\u001b[1;33m=\u001b[0m\u001b[0mparams\u001b[0m\u001b[1;33m,\u001b[0m \u001b[1;33m**\u001b[0m\u001b[0mkwargs\u001b[0m\u001b[1;33m)\u001b[0m\u001b[1;33m\u001b[0m\u001b[1;33m\u001b[0m\u001b[0m\n\u001b[0m\u001b[0;32m     77\u001b[0m \u001b[1;33m\u001b[0m\u001b[0m\n\u001b[0;32m     78\u001b[0m \u001b[1;33m\u001b[0m\u001b[0m\n",
      "\u001b[1;32mD:\\ANACONDA\\envs\\tensor2\\lib\\site-packages\\requests\\api.py\u001b[0m in \u001b[0;36mrequest\u001b[1;34m(method, url, **kwargs)\u001b[0m\n\u001b[0;32m     59\u001b[0m     \u001b[1;31m# cases, and look like a memory leak in others.\u001b[0m\u001b[1;33m\u001b[0m\u001b[1;33m\u001b[0m\u001b[1;33m\u001b[0m\u001b[0m\n\u001b[0;32m     60\u001b[0m     \u001b[1;32mwith\u001b[0m \u001b[0msessions\u001b[0m\u001b[1;33m.\u001b[0m\u001b[0mSession\u001b[0m\u001b[1;33m(\u001b[0m\u001b[1;33m)\u001b[0m \u001b[1;32mas\u001b[0m \u001b[0msession\u001b[0m\u001b[1;33m:\u001b[0m\u001b[1;33m\u001b[0m\u001b[1;33m\u001b[0m\u001b[0m\n\u001b[1;32m---> 61\u001b[1;33m         \u001b[1;32mreturn\u001b[0m \u001b[0msession\u001b[0m\u001b[1;33m.\u001b[0m\u001b[0mrequest\u001b[0m\u001b[1;33m(\u001b[0m\u001b[0mmethod\u001b[0m\u001b[1;33m=\u001b[0m\u001b[0mmethod\u001b[0m\u001b[1;33m,\u001b[0m \u001b[0murl\u001b[0m\u001b[1;33m=\u001b[0m\u001b[0murl\u001b[0m\u001b[1;33m,\u001b[0m \u001b[1;33m**\u001b[0m\u001b[0mkwargs\u001b[0m\u001b[1;33m)\u001b[0m\u001b[1;33m\u001b[0m\u001b[1;33m\u001b[0m\u001b[0m\n\u001b[0m\u001b[0;32m     62\u001b[0m \u001b[1;33m\u001b[0m\u001b[0m\n\u001b[0;32m     63\u001b[0m \u001b[1;33m\u001b[0m\u001b[0m\n",
      "\u001b[1;32mD:\\ANACONDA\\envs\\tensor2\\lib\\site-packages\\requests\\sessions.py\u001b[0m in \u001b[0;36mrequest\u001b[1;34m(self, method, url, params, data, headers, cookies, files, auth, timeout, allow_redirects, proxies, hooks, stream, verify, cert, json)\u001b[0m\n\u001b[0;32m    540\u001b[0m         }\n\u001b[0;32m    541\u001b[0m         \u001b[0msend_kwargs\u001b[0m\u001b[1;33m.\u001b[0m\u001b[0mupdate\u001b[0m\u001b[1;33m(\u001b[0m\u001b[0msettings\u001b[0m\u001b[1;33m)\u001b[0m\u001b[1;33m\u001b[0m\u001b[1;33m\u001b[0m\u001b[0m\n\u001b[1;32m--> 542\u001b[1;33m         \u001b[0mresp\u001b[0m \u001b[1;33m=\u001b[0m \u001b[0mself\u001b[0m\u001b[1;33m.\u001b[0m\u001b[0msend\u001b[0m\u001b[1;33m(\u001b[0m\u001b[0mprep\u001b[0m\u001b[1;33m,\u001b[0m \u001b[1;33m**\u001b[0m\u001b[0msend_kwargs\u001b[0m\u001b[1;33m)\u001b[0m\u001b[1;33m\u001b[0m\u001b[1;33m\u001b[0m\u001b[0m\n\u001b[0m\u001b[0;32m    543\u001b[0m \u001b[1;33m\u001b[0m\u001b[0m\n\u001b[0;32m    544\u001b[0m         \u001b[1;32mreturn\u001b[0m \u001b[0mresp\u001b[0m\u001b[1;33m\u001b[0m\u001b[1;33m\u001b[0m\u001b[0m\n",
      "\u001b[1;32mD:\\ANACONDA\\envs\\tensor2\\lib\\site-packages\\requests\\sessions.py\u001b[0m in \u001b[0;36msend\u001b[1;34m(self, request, **kwargs)\u001b[0m\n\u001b[0;32m    653\u001b[0m \u001b[1;33m\u001b[0m\u001b[0m\n\u001b[0;32m    654\u001b[0m         \u001b[1;31m# Send the request\u001b[0m\u001b[1;33m\u001b[0m\u001b[1;33m\u001b[0m\u001b[1;33m\u001b[0m\u001b[0m\n\u001b[1;32m--> 655\u001b[1;33m         \u001b[0mr\u001b[0m \u001b[1;33m=\u001b[0m \u001b[0madapter\u001b[0m\u001b[1;33m.\u001b[0m\u001b[0msend\u001b[0m\u001b[1;33m(\u001b[0m\u001b[0mrequest\u001b[0m\u001b[1;33m,\u001b[0m \u001b[1;33m**\u001b[0m\u001b[0mkwargs\u001b[0m\u001b[1;33m)\u001b[0m\u001b[1;33m\u001b[0m\u001b[1;33m\u001b[0m\u001b[0m\n\u001b[0m\u001b[0;32m    656\u001b[0m \u001b[1;33m\u001b[0m\u001b[0m\n\u001b[0;32m    657\u001b[0m         \u001b[1;31m# Total elapsed time of the request (approximately)\u001b[0m\u001b[1;33m\u001b[0m\u001b[1;33m\u001b[0m\u001b[1;33m\u001b[0m\u001b[0m\n",
      "\u001b[1;32mD:\\ANACONDA\\envs\\tensor2\\lib\\site-packages\\requests\\adapters.py\u001b[0m in \u001b[0;36msend\u001b[1;34m(self, request, stream, timeout, verify, cert, proxies)\u001b[0m\n\u001b[0;32m    447\u001b[0m                     \u001b[0mdecode_content\u001b[0m\u001b[1;33m=\u001b[0m\u001b[1;32mFalse\u001b[0m\u001b[1;33m,\u001b[0m\u001b[1;33m\u001b[0m\u001b[1;33m\u001b[0m\u001b[0m\n\u001b[0;32m    448\u001b[0m                     \u001b[0mretries\u001b[0m\u001b[1;33m=\u001b[0m\u001b[0mself\u001b[0m\u001b[1;33m.\u001b[0m\u001b[0mmax_retries\u001b[0m\u001b[1;33m,\u001b[0m\u001b[1;33m\u001b[0m\u001b[1;33m\u001b[0m\u001b[0m\n\u001b[1;32m--> 449\u001b[1;33m                     \u001b[0mtimeout\u001b[0m\u001b[1;33m=\u001b[0m\u001b[0mtimeout\u001b[0m\u001b[1;33m\u001b[0m\u001b[1;33m\u001b[0m\u001b[0m\n\u001b[0m\u001b[0;32m    450\u001b[0m                 )\n\u001b[0;32m    451\u001b[0m \u001b[1;33m\u001b[0m\u001b[0m\n",
      "\u001b[1;32mD:\\ANACONDA\\envs\\tensor2\\lib\\site-packages\\urllib3\\connectionpool.py\u001b[0m in \u001b[0;36murlopen\u001b[1;34m(self, method, url, body, headers, retries, redirect, assert_same_host, timeout, pool_timeout, release_conn, chunked, body_pos, **response_kw)\u001b[0m\n\u001b[0;32m    704\u001b[0m                 \u001b[0mbody\u001b[0m\u001b[1;33m=\u001b[0m\u001b[0mbody\u001b[0m\u001b[1;33m,\u001b[0m\u001b[1;33m\u001b[0m\u001b[1;33m\u001b[0m\u001b[0m\n\u001b[0;32m    705\u001b[0m                 \u001b[0mheaders\u001b[0m\u001b[1;33m=\u001b[0m\u001b[0mheaders\u001b[0m\u001b[1;33m,\u001b[0m\u001b[1;33m\u001b[0m\u001b[1;33m\u001b[0m\u001b[0m\n\u001b[1;32m--> 706\u001b[1;33m                 \u001b[0mchunked\u001b[0m\u001b[1;33m=\u001b[0m\u001b[0mchunked\u001b[0m\u001b[1;33m,\u001b[0m\u001b[1;33m\u001b[0m\u001b[1;33m\u001b[0m\u001b[0m\n\u001b[0m\u001b[0;32m    707\u001b[0m             )\n\u001b[0;32m    708\u001b[0m \u001b[1;33m\u001b[0m\u001b[0m\n",
      "\u001b[1;32mD:\\ANACONDA\\envs\\tensor2\\lib\\site-packages\\urllib3\\connectionpool.py\u001b[0m in \u001b[0;36m_make_request\u001b[1;34m(self, conn, method, url, timeout, chunked, **httplib_request_kw)\u001b[0m\n\u001b[0;32m    380\u001b[0m         \u001b[1;31m# Trigger any extra validation we need to do.\u001b[0m\u001b[1;33m\u001b[0m\u001b[1;33m\u001b[0m\u001b[1;33m\u001b[0m\u001b[0m\n\u001b[0;32m    381\u001b[0m         \u001b[1;32mtry\u001b[0m\u001b[1;33m:\u001b[0m\u001b[1;33m\u001b[0m\u001b[1;33m\u001b[0m\u001b[0m\n\u001b[1;32m--> 382\u001b[1;33m             \u001b[0mself\u001b[0m\u001b[1;33m.\u001b[0m\u001b[0m_validate_conn\u001b[0m\u001b[1;33m(\u001b[0m\u001b[0mconn\u001b[0m\u001b[1;33m)\u001b[0m\u001b[1;33m\u001b[0m\u001b[1;33m\u001b[0m\u001b[0m\n\u001b[0m\u001b[0;32m    383\u001b[0m         \u001b[1;32mexcept\u001b[0m \u001b[1;33m(\u001b[0m\u001b[0mSocketTimeout\u001b[0m\u001b[1;33m,\u001b[0m \u001b[0mBaseSSLError\u001b[0m\u001b[1;33m)\u001b[0m \u001b[1;32mas\u001b[0m \u001b[0me\u001b[0m\u001b[1;33m:\u001b[0m\u001b[1;33m\u001b[0m\u001b[1;33m\u001b[0m\u001b[0m\n\u001b[0;32m    384\u001b[0m             \u001b[1;31m# Py2 raises this as a BaseSSLError, Py3 raises it as socket timeout.\u001b[0m\u001b[1;33m\u001b[0m\u001b[1;33m\u001b[0m\u001b[1;33m\u001b[0m\u001b[0m\n",
      "\u001b[1;32mD:\\ANACONDA\\envs\\tensor2\\lib\\site-packages\\urllib3\\connectionpool.py\u001b[0m in \u001b[0;36m_validate_conn\u001b[1;34m(self, conn)\u001b[0m\n\u001b[0;32m   1008\u001b[0m         \u001b[1;31m# Force connect early to allow us to validate the connection.\u001b[0m\u001b[1;33m\u001b[0m\u001b[1;33m\u001b[0m\u001b[1;33m\u001b[0m\u001b[0m\n\u001b[0;32m   1009\u001b[0m         \u001b[1;32mif\u001b[0m \u001b[1;32mnot\u001b[0m \u001b[0mgetattr\u001b[0m\u001b[1;33m(\u001b[0m\u001b[0mconn\u001b[0m\u001b[1;33m,\u001b[0m \u001b[1;34m\"sock\"\u001b[0m\u001b[1;33m,\u001b[0m \u001b[1;32mNone\u001b[0m\u001b[1;33m)\u001b[0m\u001b[1;33m:\u001b[0m  \u001b[1;31m# AppEngine might not have  `.sock`\u001b[0m\u001b[1;33m\u001b[0m\u001b[1;33m\u001b[0m\u001b[0m\n\u001b[1;32m-> 1010\u001b[1;33m             \u001b[0mconn\u001b[0m\u001b[1;33m.\u001b[0m\u001b[0mconnect\u001b[0m\u001b[1;33m(\u001b[0m\u001b[1;33m)\u001b[0m\u001b[1;33m\u001b[0m\u001b[1;33m\u001b[0m\u001b[0m\n\u001b[0m\u001b[0;32m   1011\u001b[0m \u001b[1;33m\u001b[0m\u001b[0m\n\u001b[0;32m   1012\u001b[0m         \u001b[1;32mif\u001b[0m \u001b[1;32mnot\u001b[0m \u001b[0mconn\u001b[0m\u001b[1;33m.\u001b[0m\u001b[0mis_verified\u001b[0m\u001b[1;33m:\u001b[0m\u001b[1;33m\u001b[0m\u001b[1;33m\u001b[0m\u001b[0m\n",
      "\u001b[1;32mD:\\ANACONDA\\envs\\tensor2\\lib\\site-packages\\urllib3\\connection.py\u001b[0m in \u001b[0;36mconnect\u001b[1;34m(self)\u001b[0m\n\u001b[0;32m    351\u001b[0m     \u001b[1;32mdef\u001b[0m \u001b[0mconnect\u001b[0m\u001b[1;33m(\u001b[0m\u001b[0mself\u001b[0m\u001b[1;33m)\u001b[0m\u001b[1;33m:\u001b[0m\u001b[1;33m\u001b[0m\u001b[1;33m\u001b[0m\u001b[0m\n\u001b[0;32m    352\u001b[0m         \u001b[1;31m# Add certificate verification\u001b[0m\u001b[1;33m\u001b[0m\u001b[1;33m\u001b[0m\u001b[1;33m\u001b[0m\u001b[0m\n\u001b[1;32m--> 353\u001b[1;33m         \u001b[0mconn\u001b[0m \u001b[1;33m=\u001b[0m \u001b[0mself\u001b[0m\u001b[1;33m.\u001b[0m\u001b[0m_new_conn\u001b[0m\u001b[1;33m(\u001b[0m\u001b[1;33m)\u001b[0m\u001b[1;33m\u001b[0m\u001b[1;33m\u001b[0m\u001b[0m\n\u001b[0m\u001b[0;32m    354\u001b[0m         \u001b[0mhostname\u001b[0m \u001b[1;33m=\u001b[0m \u001b[0mself\u001b[0m\u001b[1;33m.\u001b[0m\u001b[0mhost\u001b[0m\u001b[1;33m\u001b[0m\u001b[1;33m\u001b[0m\u001b[0m\n\u001b[0;32m    355\u001b[0m         \u001b[0mtls_in_tls\u001b[0m \u001b[1;33m=\u001b[0m \u001b[1;32mFalse\u001b[0m\u001b[1;33m\u001b[0m\u001b[1;33m\u001b[0m\u001b[0m\n",
      "\u001b[1;32mD:\\ANACONDA\\envs\\tensor2\\lib\\site-packages\\urllib3\\connection.py\u001b[0m in \u001b[0;36m_new_conn\u001b[1;34m(self)\u001b[0m\n\u001b[0;32m    168\u001b[0m         \u001b[1;32mtry\u001b[0m\u001b[1;33m:\u001b[0m\u001b[1;33m\u001b[0m\u001b[1;33m\u001b[0m\u001b[0m\n\u001b[0;32m    169\u001b[0m             conn = connection.create_connection(\n\u001b[1;32m--> 170\u001b[1;33m                 \u001b[1;33m(\u001b[0m\u001b[0mself\u001b[0m\u001b[1;33m.\u001b[0m\u001b[0m_dns_host\u001b[0m\u001b[1;33m,\u001b[0m \u001b[0mself\u001b[0m\u001b[1;33m.\u001b[0m\u001b[0mport\u001b[0m\u001b[1;33m)\u001b[0m\u001b[1;33m,\u001b[0m \u001b[0mself\u001b[0m\u001b[1;33m.\u001b[0m\u001b[0mtimeout\u001b[0m\u001b[1;33m,\u001b[0m \u001b[1;33m**\u001b[0m\u001b[0mextra_kw\u001b[0m\u001b[1;33m\u001b[0m\u001b[1;33m\u001b[0m\u001b[0m\n\u001b[0m\u001b[0;32m    171\u001b[0m             )\n\u001b[0;32m    172\u001b[0m \u001b[1;33m\u001b[0m\u001b[0m\n",
      "\u001b[1;32mD:\\ANACONDA\\envs\\tensor2\\lib\\site-packages\\urllib3\\util\\connection.py\u001b[0m in \u001b[0;36mcreate_connection\u001b[1;34m(address, timeout, source_address, socket_options)\u001b[0m\n\u001b[0;32m     84\u001b[0m             \u001b[1;32mif\u001b[0m \u001b[0msource_address\u001b[0m\u001b[1;33m:\u001b[0m\u001b[1;33m\u001b[0m\u001b[1;33m\u001b[0m\u001b[0m\n\u001b[0;32m     85\u001b[0m                 \u001b[0msock\u001b[0m\u001b[1;33m.\u001b[0m\u001b[0mbind\u001b[0m\u001b[1;33m(\u001b[0m\u001b[0msource_address\u001b[0m\u001b[1;33m)\u001b[0m\u001b[1;33m\u001b[0m\u001b[1;33m\u001b[0m\u001b[0m\n\u001b[1;32m---> 86\u001b[1;33m             \u001b[0msock\u001b[0m\u001b[1;33m.\u001b[0m\u001b[0mconnect\u001b[0m\u001b[1;33m(\u001b[0m\u001b[0msa\u001b[0m\u001b[1;33m)\u001b[0m\u001b[1;33m\u001b[0m\u001b[1;33m\u001b[0m\u001b[0m\n\u001b[0m\u001b[0;32m     87\u001b[0m             \u001b[1;32mreturn\u001b[0m \u001b[0msock\u001b[0m\u001b[1;33m\u001b[0m\u001b[1;33m\u001b[0m\u001b[0m\n\u001b[0;32m     88\u001b[0m \u001b[1;33m\u001b[0m\u001b[0m\n",
      "\u001b[1;31mKeyboardInterrupt\u001b[0m: "
     ]
    }
   ],
   "source": [
    "# Iterating every historical url\n",
    "for element in historical_urls:\n",
    "    \n",
    "    # Iterating every dataframe\n",
    "    for DataFrame in DataFrames:\n",
    "        \n",
    "        # Check if the current dataframe has a report with the date of the current element\n",
    "        if element[\"date\"] not in list(DataFrame['Date']):\n",
    "            \n",
    "            # Retrieve the report\n",
    "            request = requests.get(element[\"url\"], headers=random.choice(headers))\n",
    "            \n",
    "            # Html parse the report\n",
    "            soup = BeautifulSoup(request.content,\"html.parser\")\n",
    "\n",
    "            # Preprocess text in the report\n",
    "            try: reports = soup.find(\"pre\").text.split(\"\\r\\n \\r\\n \\r\\n\")\n",
    "            except AttributeError: \n",
    "                print(\"continuing\")\n",
    "                continue\n",
    "\n",
    "            # Preprocess in case 1st attempt failed\n",
    "            if len(reports) < 2:\n",
    "                reports = soup.find(\"pre\").text.split(\"\\n \\n \\n\")\n",
    "\n",
    "            # Remove empty values\n",
    "            try: reports.remove(\"\")\n",
    "            except ValueError: pass\n",
    "\n",
    "            # Missing report date\n",
    "            report_date = element[\"date\"]\n",
    "\n",
    "            # For every smaller report            \n",
    "            for i in range(0,len(reports)):\n",
    "                \n",
    "                # Extract the name of the equity\n",
    "                name = reports[i].split(\"-\")[0]\n",
    "                \n",
    "                # Extract the commitments\n",
    "                commitments = reports[i].split(\"\\r\\n\")\n",
    "\n",
    "                # Boolean to be changed whenever the open interest variable is found\n",
    "                OI_filled = False\n",
    "\n",
    "                # Iterate for every commitment\n",
    "                for j in range(0,len(commitments)):\n",
    "                    \n",
    "                    # Iterate for every commitment preprocessed\n",
    "                    for i in range(0,len(remove_blank(commitments[j].split(\" \")))):\n",
    "                        \n",
    "                        # Check if the keyword is INTEREST and the OI_filled variable hasn't been changed\n",
    "                        if remove_blank(commitments[j].split(\" \"))[i] == \"INTEREST:\" and OI_filled == False:\n",
    "                            \n",
    "                            # Assign the Open Interest value\n",
    "                            try: OI = int(remove_blank(commitments[j].split(\" \"))[i+1].replace(\",\",\"\"))\n",
    "                            except: OI = int(remove_blank(commitments[j].split(\" \"))[i+1].replace(\",\",\"\").split(\"\\n\")[0])\n",
    "                            \n",
    "                            # Change the boolean for Open Interest\n",
    "                            OI_filled = True\n",
    "\n",
    "                # Iterate variable J for every number from 0 to the qty of commitments\n",
    "                for j in range(0,len(commitments)):\n",
    "                    \n",
    "                    # Fill positions variables\n",
    "                    if commitments[j] == \"COMMITMENTS\": positions = remove_blank(commitments[j+1].split(\" \"))\n",
    "                \n",
    "                # Iterate variable J for every number from 0 to the qty of commitments\n",
    "                for j in range(0,len(commitments)):\n",
    "                    \n",
    "                    # Fill the changes from the last report variable\n",
    "                    if commitments[j].split(\" \")[0] == \"CHANGES\": changes = remove_blank(commitments[j+1].split(\" \"))\n",
    "                        \n",
    "                # Iterate variable J for every number from 0 to the qty of commitments\n",
    "                for j in range(0,len(positions)):\n",
    "                    \n",
    "                    # Fix positions value\n",
    "                    try: positions[j] = int(positions[j].replace(\",\",\"\"))\n",
    "                    except AttributeError:positions[j] = positions[j]\n",
    "                        \n",
    "                # Iterate variable J for every number from 0 to the qty of commitments\n",
    "                for j in range(0,len(changes)):\n",
    "                    \n",
    "                    # Fix changes value\n",
    "                    try: changes[j] = int(changes[j].replace(\",\",\"\"))\n",
    "                    except ValueError: changes[j] = \"0,0\"\n",
    "                    except AttributeError: changes[j] = changes[j]\n",
    "                \n",
    "                # Generate row to be appended\n",
    "                try: row = [report_date,name,positions[0],positions[1],changes[0],changes[1],positions[0] - positions[1],positions[0] + positions[1],OI]\n",
    "                except IndexError: row = [0,0,0,0,0,0,0,0,0]\n",
    "         \n",
    "                # Append row depending on the corresponding report\n",
    "                if name == \"CANADIAN DOLLAR \":CAD_df.loc[len(CAD_df)] = row\n",
    "                if name == \"SWISS FRANC \":CHF_df.loc[len(CHF_df)] = row    \n",
    "                if name == \"BRITISH POUND STERLING \":GBP_df.loc[len(GBP_df)] = row    \n",
    "                if name == \"JAPANESE YEN \":JPY_df.loc[len(JPY_df)] = row     \n",
    "                if name == \"EURO FX \":EUR_df.loc[len(EUR_df)] = row     \n",
    "                if name == \"NEW ZEALAND DOLLAR \":NZD_df.loc[len(NZD_df)] = row\n",
    "                if name == \"MILK, Class III \": MILK.loc[len(MILK)] = row\n",
    "                if name == \"NON FAT DRY MILK \": NON_FAT_DRY_MILK.loc[len(NON_FAT_DRY_MILK)] = row\n",
    "                if name == \"LEAN HOGS \": LEAN_HOGS.loc[len(LEAN_HOGS)] = row\n",
    "                if name == \"LIVE CATTLE \": LIVE_CATTLE.loc[len(LIVE_CATTLE)] = row\n",
    "                if name == \"RANDOM LENGTH LUMBER \": RANDOM_LENGTH_LUMBER.loc[len(RANDOM_LENGTH_LUMBER)] = row\n",
    "                if name == \"FEEDER CATTLE \": FEEDER_CATTLE.loc[len(FEEDER_CATTLE)] = row\n",
    "                if name == \"CHEESE (CASH\": CHEESE.loc[len(CHEESE)] = row\n",
    "                if name == \"BITCOIN \": BITCOIN.loc[len(BITCOIN)] = row\n",
    "                if 'BUTTER' in name: BUTTER.loc[len(BUTTER)] = row"
   ]
  },
  {
   "cell_type": "markdown",
   "id": "03674d30",
   "metadata": {},
   "source": [
    "# Save dataframes"
   ]
  },
  {
   "cell_type": "code",
   "execution_count": 50,
   "id": "894cb8ad",
   "metadata": {},
   "outputs": [],
   "source": [
    "CAD_df = CAD_df.drop_duplicates()\n",
    "CHF_df = CHF_df.drop_duplicates()\n",
    "GBP_df = GBP_df.drop_duplicates()\n",
    "JPY_df = JPY_df.drop_duplicates()\n",
    "EUR_df = EUR_df.drop_duplicates()\n",
    "NZD_df = NZD_df.drop_duplicates()\n",
    "BUTTER = BUTTER.drop_duplicates()\n",
    "MILK = MILK.drop_duplicates()\n",
    "NON_FAT_DRY_MILK = NON_FAT_DRY_MILK.drop_duplicates()\n",
    "LEAN_HOGS = LEAN_HOGS.drop_duplicates()\n",
    "LIVE_CATTLE = LIVE_CATTLE.drop_duplicates()\n",
    "RANDOM_LENGTH_LUMBER = RANDOM_LENGTH_LUMBER.drop_duplicates()\n",
    "FEEDER_CATTLE = FEEDER_CATTLE.drop_duplicates()\n",
    "CHEESE = CHEESE.drop_duplicates()\n",
    "BITCOIN = BITCOIN.drop_duplicates()\n",
    "\n",
    "CAD_df.to_csv(\"CAD.csv\", index = False)\n",
    "CHF_df.to_csv(\"CHF.csv\", index = False)\n",
    "GBP_df.to_csv(\"GBP.csv\", index = False)\n",
    "JPY_df.to_csv(\"JPY.csv\", index = False)\n",
    "EUR_df.to_csv(\"EUR.csv\", index = False)\n",
    "NZD_df.to_csv(\"NZD.csv\", index = False)\n",
    "BUTTER.to_csv(\"BUTTER.csv\", index = False)\n",
    "MILK.to_csv(\"MILK.csv\", index = False)\n",
    "NON_FAT_DRY_MILK.to_csv(\"NON_FAT_DRY_MILK.csv\", index = False)\n",
    "LEAN_HOGS.to_csv(\"LEAN_HOGS.csv\", index = False)\n",
    "LIVE_CATTLE.to_csv(\"LIVE_CATTLE.csv\", index = False)\n",
    "RANDOM_LENGTH_LUMBER.to_csv(\"RANDOM_LENGTH_LUMBER.csv\", index = False)\n",
    "FEEDER_CATTLE.to_csv(\"FEEDER_CATTLE.csv\", index = False)\n",
    "CHEESE.to_csv(\"CHEESE.csv\", index = False)\n",
    "BITCOIN.to_csv(\"BITCOIN.csv\", index = False)"
   ]
  }
 ],
 "metadata": {
  "kernelspec": {
   "display_name": "tensor2",
   "language": "python",
   "name": "tensor2"
  },
  "language_info": {
   "codemirror_mode": {
    "name": "ipython",
    "version": 3
   },
   "file_extension": ".py",
   "mimetype": "text/x-python",
   "name": "python",
   "nbconvert_exporter": "python",
   "pygments_lexer": "ipython3",
   "version": "3.7.10"
  }
 },
 "nbformat": 4,
 "nbformat_minor": 5
}
